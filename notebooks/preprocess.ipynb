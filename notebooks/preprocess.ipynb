{
 "cells": [
  {
   "cell_type": "code",
   "execution_count": 1,
   "metadata": {},
   "outputs": [],
   "source": [
    "import os\n",
    "import xarray as xr\n",
    "import numpy as np\n",
    "from pathlib import Path\n",
    "import sklearn.utils as skutils\n",
    "\n",
    "PATH = Path().cwd()\n",
    "VARS = ['air', 'rhum', 'uwnd', 'vwnd']\n",
    "NLAT = 73\n",
    "NLON = 144"
   ]
  },
  {
   "cell_type": "code",
   "execution_count": null,
   "metadata": {},
   "outputs": [],
   "source": [
    "VAR_DATA_TRAIN = {var: xr.concat([xr.open_dataset(\n",
    "    PATH.parent/f'data/NOAA_psl/{file}')[var].sel(\n",
    "        level=925, time=slice('1996-01-01', '2020-12-31'))\n",
    "        for file in os.listdir(PATH.parent/'data/NOAA_psl')\n",
    "        if file.split('.')[0] == var],\n",
    "        dim='time').values.reshape((-1, NLAT*NLON)) for var in VARS}"
   ]
  },
  {
   "cell_type": "code",
   "execution_count": null,
   "metadata": {},
   "outputs": [],
   "source": [
    "np.savez(PATH.parent/'data/atmos_cond_train.npz', **VAR_DATA_TRAIN)"
   ]
  },
  {
   "cell_type": "code",
   "execution_count": 2,
   "metadata": {},
   "outputs": [],
   "source": [
    "VAR_DATA_TEST = {var: xr.concat([xr.open_dataset(\n",
    "    PATH.parent/f'data/NOAA_psl/{file}')[var].sel(\n",
    "        level=925, time=slice('2021-01-01', '2021-01-31'))\n",
    "        for file in os.listdir(PATH.parent/'data/NOAA_psl')\n",
    "        if file.split('.')[0] == var],\n",
    "        dim='time').values.reshape((-1, NLAT*NLON)) for var in VARS}"
   ]
  },
  {
   "cell_type": "code",
   "execution_count": 3,
   "metadata": {},
   "outputs": [],
   "source": [
    "np.savez(PATH.parent/'data/atmos_cond_test.npz', **VAR_DATA_TEST)"
   ]
  },
  {
   "cell_type": "code",
   "execution_count": null,
   "metadata": {},
   "outputs": [],
   "source": [
    "VAR_DATA_PLOTS = {var: xr.concat([xr.open_dataset(\n",
    "    PATH.parent/f'data/NOAA_psl/{file}')[var].sel(\n",
    "        level=925, time=slice('2020-12-31', '2021-03-31'))\n",
    "        for file in os.listdir(PATH.parent/'data/NOAA_psl')\n",
    "        if file.split('.')[0] == var],\n",
    "        dim='time').values.reshape((-1, NLAT*NLON)) for var in VARS}"
   ]
  },
  {
   "cell_type": "code",
   "execution_count": null,
   "metadata": {},
   "outputs": [],
   "source": [
    "print(*[f\"{var}: {vals.shape}\" for var, vals in VAR_DATA_PLOTS.items()])"
   ]
  },
  {
   "cell_type": "code",
   "execution_count": null,
   "metadata": {},
   "outputs": [],
   "source": []
  }
 ],
 "metadata": {
  "interpreter": {
   "hash": "31f2aee4e71d21fbe5cf8b01ff0e069b9275f58929596ceb00d14d90e3e16cd6"
  },
  "kernelspec": {
   "display_name": "Python 3",
   "language": "python",
   "name": "python3"
  },
  "language_info": {
   "codemirror_mode": {
    "name": "ipython",
    "version": 3
   },
   "file_extension": ".py",
   "mimetype": "text/x-python",
   "name": "python",
   "nbconvert_exporter": "python",
   "pygments_lexer": "ipython3",
   "version": "3.8.12"
  }
 },
 "nbformat": 4,
 "nbformat_minor": 2
}
