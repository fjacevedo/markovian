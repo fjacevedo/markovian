{
 "cells": [
  {
   "cell_type": "code",
   "execution_count": 1,
   "id": "eb3abf30",
   "metadata": {},
   "outputs": [],
   "source": [
    "import os\n",
    "import time\n",
    "import itertools as itr\n",
    "import numpy as np\n",
    "import pandas as pd\n",
    "from pathlib import Path"
   ]
  },
  {
   "cell_type": "code",
   "execution_count": 2,
   "id": "10d7f03b",
   "metadata": {},
   "outputs": [],
   "source": [
    "PATH = Path.cwd()\n",
    "VAR = ['air', 'uwnd', 'vwnd', 'rhum']\n",
    "VAR_NAME = dict({\n",
    "    'air': '$T$',\n",
    "    'uwnd': '$u$',\n",
    "    'vwnd': '$v$',\n",
    "    'rhum': '$\\\\phi$'})\n",
    "REGRESSORS = list([\"Ridge\", \"RidgeCV\", \"LinearRegression\",\n",
    "              \"GaussianProcessRegressor\", \"KNeighborsRegressor\"])\n",
    "VAR_DATA_TEST = np.load(PATH.parent/'data/atmos_cond_test.npz')\n",
    "rs = list([\"3\", \"5\", \"7\"])\n",
    "p_obs = list([\"5\", \"10\", \"15\"])"
   ]
  },
  {
   "cell_type": "code",
   "execution_count": 3,
   "id": "ea70a23d",
   "metadata": {},
   "outputs": [],
   "source": [
    "for var in VAR:\n",
    "    data = list()\n",
    "    for i, exp in enumerate((PATH.parent/\"results/exps\").glob(\"*.npz\")):\n",
    "        rg, r, p = exp.name.split(\".\")[0].split(\"_\")\n",
    "        results = np.load(exp)\n",
    "        background = np.load(PATH.parent/f\"results/background/{rg}.npz\")\n",
    "        mask = results[var].any(axis=1)\n",
    "        mse_analysis = ((VAR_DATA_TEST[var][mask][:124] -\n",
    "                results[var][mask][:124])**2).mean()\n",
    "        data.append([r, p, rg, np.log10(np.sqrt(mse_analysis))])\n",
    "    df = pd.DataFrame(\n",
    "        data=data, columns=[\"$r$\", \"$p$\", \"Regressor\", \"RMSE\"]).pivot(\n",
    "        index=['$r$', '$p$'], columns=\"Regressor\", values=\"RMSE\")\n",
    "    df.to_latex(PATH.parent/f\"tables/table_rmse_{var}.tex\")"
   ]
  },
  {
   "cell_type": "code",
   "execution_count": null,
   "id": "517077aa",
   "metadata": {},
   "outputs": [],
   "source": []
  }
 ],
 "metadata": {
  "kernelspec": {
   "display_name": "Python 3",
   "language": "python",
   "name": "python3"
  },
  "language_info": {
   "codemirror_mode": {
    "name": "ipython",
    "version": 3
   },
   "file_extension": ".py",
   "mimetype": "text/x-python",
   "name": "python",
   "nbconvert_exporter": "python",
   "pygments_lexer": "ipython3",
   "version": "3.7.11"
  }
 },
 "nbformat": 4,
 "nbformat_minor": 5
}
