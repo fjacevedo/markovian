{
 "cells": [
  {
   "cell_type": "code",
   "execution_count": null,
   "metadata": {},
   "outputs": [],
   "source": [
    "import numpy as np\n",
    "from scripts.Markovian import Markovian\n",
    "from pathlib import Path"
   ]
  },
  {
   "cell_type": "code",
   "execution_count": null,
   "metadata": {},
   "outputs": [],
   "source": [
    "PATH = Path().parent.resolve()\n",
    "\n",
    "# PRESSURE_LEVELS_VALUES = [925, 850, 700, 500, 300, 200, 100]\n",
    "PRESSURE_LEVELS_VALUES = [925]\n",
    "N_LAT = 73\n",
    "N_LON = 144\n",
    "\n",
    "VAR = ['air', 'uwnd', 'vwnd', 'rhum']\n",
    "VAR_STD = dict({\n",
    "    'air': 1,\n",
    "    'uwnd': 1,\n",
    "    'vwnd': 1,\n",
    "    'rhum': 0.0001,\n",
    "})\n",
    "\n",
    "VAR_DATA_TRAIN = np.load(PATH/'data/atmos_cond_train.npz')\n",
    "VAR_DATA_TEST = np.load(PATH/'data/atmos_cond_test.npz')"
   ]
  },
  {
   "cell_type": "code",
   "execution_count": null,
   "metadata": {},
   "outputs": [],
   "source": [
    "var_models = dict({\n",
    "    var: Markovian(N_LAT, N_LON, n_jobs=-1).fit(vals)\n",
    "    for var, vals in VAR_DATA_TRAIN.items()})"
   ]
  },
  {
   "cell_type": "code",
   "execution_count": null,
   "metadata": {},
   "outputs": [],
   "source": [
    "STEPS, _ = VAR_DATA_TEST['air'].shape"
   ]
  },
  {
   "cell_type": "code",
   "execution_count": null,
   "metadata": {},
   "outputs": [],
   "source": [
    "da_results = dict({\n",
    "    var: model.EnKFMC_results(\n",
    "        steps=STEPS,\n",
    "        std=VAR_STD[var],\n",
    "        p_obs=0.05,\n",
    "        r=7,\n",
    "        atms_ens=VAR_DATA_TRAIN[var],\n",
    "        atms_obs=VAR_DATA_TEST[var],\n",
    "        seed=10)\n",
    "    for var, model in var_models.items()\n",
    "})"
   ]
  },
  {
   "cell_type": "code",
   "execution_count": null,
   "metadata": {},
   "outputs": [],
   "source": []
  }
 ],
 "metadata": {
  "interpreter": {
   "hash": "916dbcbb3f70747c44a77c7bcd40155683ae19c65e1c03b4aa3499c5328201f1"
  },
  "kernelspec": {
   "display_name": "Python 3.6.8 64-bit",
   "language": "python",
   "name": "python3"
  },
  "language_info": {
   "codemirror_mode": {
    "name": "ipython",
    "version": 3
   },
   "file_extension": ".py",
   "mimetype": "text/x-python",
   "name": "python",
   "nbconvert_exporter": "python",
   "pygments_lexer": "ipython3",
   "version": "3.6.8"
  },
  "orig_nbformat": 4
 },
 "nbformat": 4,
 "nbformat_minor": 2
}
